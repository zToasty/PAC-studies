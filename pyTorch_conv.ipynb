{
 "cells": [
  {
   "cell_type": "code",
   "execution_count": 2,
   "id": "c055aed1-ff2e-4c2d-b41c-56ca74beae78",
   "metadata": {},
   "outputs": [],
   "source": [
    "import torch \n",
    "import torchvision \n",
    "import torch.nn as nn \n",
    "import torch.optim as optim \n",
    "import torch.nn.functional as F"
   ]
  },
  {
   "cell_type": "code",
   "execution_count": 3,
   "id": "b24ae708-bb37-41b3-a3e4-26d0ba417b73",
   "metadata": {},
   "outputs": [
    {
     "name": "stdout",
     "output_type": "stream",
     "text": [
      "Datasets are upToDate\n"
     ]
    }
   ],
   "source": [
    "train_dataset = torchvision.datasets.MNIST(root='./MNIST/train',  \n",
    "                                           train=True,  \n",
    "                                           transform=torchvision.transforms.ToTensor(),  \n",
    "                                           download=False) \n",
    "test_dataset = torchvision.datasets.MNIST(root='./MNIST/test',  \n",
    "                                          train=False,  \n",
    "                                          transform=torchvision.transforms.ToTensor(),  \n",
    "                                          download=False)\n",
    "\n",
    "print(\"Datasets are upToDate\")"
   ]
  },
  {
   "cell_type": "code",
   "execution_count": 4,
   "id": "fa496bd5-55a3-457f-8ded-bdc72aea2934",
   "metadata": {},
   "outputs": [
    {
     "data": {
      "text/plain": [
       "device(type='cuda', index=0)"
      ]
     },
     "execution_count": 4,
     "metadata": {},
     "output_type": "execute_result"
    }
   ],
   "source": [
    "device = torch.device(\"cuda:0\" if torch.cuda.is_available() else \"cpu\") \n",
    "device"
   ]
  },
  {
   "cell_type": "code",
   "execution_count": 18,
   "id": "30ce72de-e954-4047-ab33-991fbda89c52",
   "metadata": {},
   "outputs": [
    {
     "name": "stdout",
     "output_type": "stream",
     "text": [
      "Epoch [1/30],Loss:1.8546,Validation Loss:1.7150,Accuracy:0.65,Validation Accuracy:0.75\n",
      "Epoch [2/30],Loss:1.7067,Validation Loss:1.6936,Accuracy:0.75,Validation Accuracy:0.77\n",
      "Epoch [3/30],Loss:1.6969,Validation Loss:1.6872,Accuracy:0.76,Validation Accuracy:0.77\n",
      "Epoch [4/30],Loss:1.6913,Validation Loss:1.6838,Accuracy:0.77,Validation Accuracy:0.78\n",
      "Epoch [5/30],Loss:1.6864,Validation Loss:1.6782,Accuracy:0.78,Validation Accuracy:0.78\n",
      "Epoch [6/30],Loss:1.6797,Validation Loss:1.6735,Accuracy:0.78,Validation Accuracy:0.79\n",
      "Epoch [7/30],Loss:1.6755,Validation Loss:1.6702,Accuracy:0.79,Validation Accuracy:0.79\n",
      "Epoch [8/30],Loss:1.5774,Validation Loss:1.5280,Accuracy:0.89,Validation Accuracy:0.94\n",
      "Epoch [9/30],Loss:1.5119,Validation Loss:1.5110,Accuracy:0.95,Validation Accuracy:0.95\n",
      "Epoch [10/30],Loss:1.4994,Validation Loss:1.5016,Accuracy:0.97,Validation Accuracy:0.96\n",
      "Epoch [11/30],Loss:1.4927,Validation Loss:1.4997,Accuracy:0.97,Validation Accuracy:0.96\n",
      "Epoch [12/30],Loss:1.4890,Validation Loss:1.4969,Accuracy:0.98,Validation Accuracy:0.97\n",
      "Epoch [13/30],Loss:1.4872,Validation Loss:1.4951,Accuracy:0.98,Validation Accuracy:0.97\n",
      "Epoch [14/30],Loss:1.4841,Validation Loss:1.4923,Accuracy:0.98,Validation Accuracy:0.97\n",
      "Epoch [15/30],Loss:1.4816,Validation Loss:1.4912,Accuracy:0.98,Validation Accuracy:0.97\n",
      "Epoch [16/30],Loss:1.4799,Validation Loss:1.4899,Accuracy:0.98,Validation Accuracy:0.97\n",
      "Epoch [17/30],Loss:1.4787,Validation Loss:1.4894,Accuracy:0.98,Validation Accuracy:0.97\n",
      "Epoch [18/30],Loss:1.4771,Validation Loss:1.4880,Accuracy:0.99,Validation Accuracy:0.98\n",
      "Epoch [19/30],Loss:1.4760,Validation Loss:1.4884,Accuracy:0.99,Validation Accuracy:0.97\n",
      "Epoch [20/30],Loss:1.4755,Validation Loss:1.4869,Accuracy:0.99,Validation Accuracy:0.98\n",
      "Epoch [21/30],Loss:1.4743,Validation Loss:1.4876,Accuracy:0.99,Validation Accuracy:0.98\n",
      "Epoch [22/30],Loss:1.4740,Validation Loss:1.4867,Accuracy:0.99,Validation Accuracy:0.98\n",
      "Epoch [23/30],Loss:1.4730,Validation Loss:1.4863,Accuracy:0.99,Validation Accuracy:0.98\n",
      "Epoch [24/30],Loss:1.4722,Validation Loss:1.4859,Accuracy:0.99,Validation Accuracy:0.98\n",
      "Epoch [25/30],Loss:1.4721,Validation Loss:1.4861,Accuracy:0.99,Validation Accuracy:0.98\n",
      "Epoch [26/30],Loss:1.4721,Validation Loss:1.4871,Accuracy:0.99,Validation Accuracy:0.97\n",
      "Epoch [27/30],Loss:1.4718,Validation Loss:1.4867,Accuracy:0.99,Validation Accuracy:0.98\n",
      "Epoch [28/30],Loss:1.4712,Validation Loss:1.4850,Accuracy:0.99,Validation Accuracy:0.98\n",
      "Epoch [29/30],Loss:1.4706,Validation Loss:1.4853,Accuracy:0.99,Validation Accuracy:0.98\n",
      "Epoch [30/30],Loss:1.4704,Validation Loss:1.4844,Accuracy:0.99,Validation Accuracy:0.98\n"
     ]
    }
   ],
   "source": [
    "class ConvClassif(nn.Module):\n",
    "    def __init__(self):\n",
    "        super().__init__()\n",
    "        self.conv1 = nn.Conv2d(in_channels=1, out_channels=16, kernel_size=3, padding=1)\n",
    "        self.conv2 = nn.Conv2d(in_channels=16, out_channels=32, kernel_size=3, padding=1)\n",
    "        self.fc = nn.Linear(32*28*28, 10)\n",
    "\n",
    "    def forward(self,x):\n",
    "        x = F.relu(self.conv1(x))\n",
    "        x = F.relu(self.conv2(x))\n",
    "        x = torch.flatten(x,1)\n",
    "        x = self.fc(x)\n",
    "        return F.softmax(x, dim=1)\n",
    "\n",
    "model = ConvClassif().to(device)\n",
    "\n",
    "criterion = nn.CrossEntropyLoss() \n",
    "optimizer = optim.Adam(model.parameters(), lr=0.001)\n",
    "\n",
    "batch_size = 1000\n",
    "num_epochs = 30\n",
    "\n",
    "val_percent = 0.2\n",
    "val_size    = int(val_percent * len(train_dataset)) \n",
    "train_size  = len(train_dataset) - val_size \n",
    "train_dataset, val_dataset = torch.utils.data.random_split(train_dataset,  \n",
    "                                                           [train_size,  \n",
    "                                                            val_size])\n",
    "\n",
    "train_loader = torch.utils.data.DataLoader(train_dataset,  \n",
    "                                           batch_size=batch_size,  \n",
    "                                           shuffle=True, \n",
    "                                           pin_memory=True) \n",
    "val_loader = torch.utils.data.DataLoader(val_dataset,  \n",
    "                                         batch_size=batch_size,  \n",
    "                                         shuffle=False, \n",
    "                                         pin_memory=True)\n",
    "\n",
    "losses = [] \n",
    "accuracies = [] \n",
    "val_losses = [] \n",
    "val_accuracies = []\n",
    "\n",
    "for epoch in range(num_epochs):\n",
    "    model.train()\n",
    "    running_loss = 0.0\n",
    "    correct = 0\n",
    "    total = 0\n",
    "    for images, labels in train_loader:\n",
    "        images, labels = images.to(device), labels.to(device)\n",
    "\n",
    "        outputs = model(images)\n",
    "        loss = criterion(outputs, labels)\n",
    "\n",
    "        optimizer.zero_grad()\n",
    "        loss.backward()\n",
    "        optimizer.step()\n",
    "\n",
    "        running_loss += loss.item()\n",
    "        _, predicted = torch.max(outputs, 1)\n",
    "        correct += (predicted == labels).sum().item()\n",
    "        total += labels.size(0)\n",
    "\n",
    "    epoch_loss = running_loss / len(train_loader)\n",
    "    epoch_acc = correct / total\n",
    "    losses.append(epoch_loss)\n",
    "    accuracies.append(epoch_acc)\n",
    "\n",
    "    model.eval()\n",
    "    val_loss = 0.0\n",
    "    val_correct = 0\n",
    "    val_total = 0\n",
    "    with torch.no_grad():\n",
    "        for images, labels in val_loader:\n",
    "            images, labels = images.to(device), labels.to(device)\n",
    "            outputs = model(images)\n",
    "            loss = criterion(outputs, labels)\n",
    "            val_loss += loss.item()\n",
    "\n",
    "            _, predicted = torch.max(outputs, 1)\n",
    "            val_correct += (predicted == labels).sum().item()\n",
    "            val_total += labels.size(0)\n",
    "\n",
    "    val_epoch_loss = val_loss / len(val_loader)\n",
    "    val_epoch_acc = val_correct / val_total\n",
    "    val_losses.append(val_epoch_loss)\n",
    "    val_accuracies.append(val_epoch_acc)\n",
    "      \n",
    "              \n",
    "    print('Epoch [{}/{}],Loss:{:.4f},Validation Loss:{:.4f},Accuracy:{:.2f},Validation Accuracy:{:.2f}'.format( \n",
    "        epoch+1, num_epochs, epoch_loss, val_epoch_loss, epoch_acc ,val_epoch_acc))\n",
    "    \n",
    "\n",
    "        \n",
    "        "
   ]
  },
  {
   "cell_type": "code",
   "execution_count": 20,
   "id": "41a7a5e5-0099-44f4-81c2-14efc08a0cf9",
   "metadata": {},
   "outputs": [
    {
     "name": "stdout",
     "output_type": "stream",
     "text": [
      "Test Accuracy: 98.01%\n",
      "              precision    recall  f1-score   support\n",
      "\n",
      "           0       0.97      0.99      0.98       980\n",
      "           1       0.98      0.99      0.99      1135\n",
      "           2       0.97      0.97      0.97      1032\n",
      "           3       0.97      0.98      0.98      1010\n",
      "           4       0.98      0.99      0.99       982\n",
      "           5       0.99      0.97      0.98       892\n",
      "           6       0.98      0.98      0.98       958\n",
      "           7       0.98      0.97      0.97      1028\n",
      "           8       0.98      0.97      0.98       974\n",
      "           9       0.98      0.97      0.98      1009\n",
      "\n",
      "    accuracy                           0.98     10000\n",
      "   macro avg       0.98      0.98      0.98     10000\n",
      "weighted avg       0.98      0.98      0.98     10000\n",
      "\n"
     ]
    }
   ],
   "source": [
    "test_loader = torch.utils.data.DataLoader(test_dataset,  \n",
    "                                          batch_size=batch_size,  \n",
    "                                          shuffle=False) \n",
    "  \n",
    "model.eval() \n",
    "  \n",
    "with torch.no_grad(): \n",
    "    correct = 0\n",
    "    total = 0\n",
    "    y_true = [] \n",
    "    y_pred = [] \n",
    "    for images, labels in test_loader: \n",
    "        images = images.to(device) \n",
    "        labels = labels.to(device) \n",
    "        outputs = model(images) \n",
    "        _, predicted = torch.max(outputs.data, 1) \n",
    "        total += labels.size(0) \n",
    "        correct += (predicted == labels).sum().item() \n",
    "        predicted=predicted.to('cpu') \n",
    "        labels=labels.to('cpu') \n",
    "        y_true.extend(labels) \n",
    "        y_pred.extend(predicted) \n",
    "  \n",
    "print('Test Accuracy: {}%'.format(100 * correct / total)) \n",
    "  \n",
    "from sklearn.metrics import classification_report \n",
    "print(classification_report(y_true, y_pred))"
   ]
  },
  {
   "cell_type": "code",
   "execution_count": null,
   "id": "6c48ef9a-fe1f-4433-8544-c78447bbc32e",
   "metadata": {},
   "outputs": [],
   "source": []
  }
 ],
 "metadata": {
  "kernelspec": {
   "display_name": "Python 3 (ipykernel)",
   "language": "python",
   "name": "python3"
  },
  "language_info": {
   "codemirror_mode": {
    "name": "ipython",
    "version": 3
   },
   "file_extension": ".py",
   "mimetype": "text/x-python",
   "name": "python",
   "nbconvert_exporter": "python",
   "pygments_lexer": "ipython3",
   "version": "3.12.3"
  }
 },
 "nbformat": 4,
 "nbformat_minor": 5
}
